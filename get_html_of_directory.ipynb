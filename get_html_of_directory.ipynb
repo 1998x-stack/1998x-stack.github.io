{
 "cells": [
  {
   "cell_type": "code",
   "execution_count": 2,
   "metadata": {},
   "outputs": [],
   "source": [
    "import os\n",
    "from collections import defaultdict\n",
    "from jinja2 import Template\n",
    "from urllib.parse import quote\n",
    "\n",
    "def collect_files(start_dir, html_dir):\n",
    "    \"\"\"递归地在指定的起始目录中收集文件，返回一个包含每个文件名和其对应扩展名和相对路径的字典\"\"\"\n",
    "    collected_files = defaultdict(lambda: defaultdict(list))\n",
    "    for dir_path, dirs, files in sorted(os.walk(start_dir)):\n",
    "        for file in sorted(files):\n",
    "            file_name, file_ext = os.path.splitext(file)\n",
    "            file_ext = file_ext.lstrip('.')\n",
    "            rel_path = os.path.relpath(os.path.join(dir_path, file), html_dir)\n",
    "            url_path = quote(rel_path)\n",
    "            collected_files[dir_path][file_name].append((file_ext, url_path))\n",
    "    return collected_files\n",
    "\n",
    "def create_html(collected_files, output_file):\n",
    "    \"\"\"生成一个HTML文件，其中包含收集到的文件的信息\"\"\"\n",
    "    template_str = '''\n",
    "    <html>\n",
    "\n",
    "    <head>\n",
    "        <title>苏杰的产品创新课</title>\n",
    "        <style>\n",
    "            body {\n",
    "                font-family: 'IBM Plex Sans', sans-serif;\n",
    "                line-height: 1.5;\n",
    "                color: #333;\n",
    "            }\n",
    "\n",
    "            h2 {\n",
    "                font-size: 1.5rem;\n",
    "                margin-bottom: 0.5rem;\n",
    "            }\n",
    "\n",
    "            table {\n",
    "                width: 100%;\n",
    "                border-collapse: collapse;\n",
    "                margin-bottom: 2rem;\n",
    "            }\n",
    "\n",
    "            th,\n",
    "            td {\n",
    "                text-align: left;\n",
    "                padding: 0.5rem;\n",
    "                border-bottom: 1px solid #eee;\n",
    "            }\n",
    "\n",
    "            th {\n",
    "                background: #f7f7f7;\n",
    "            }\n",
    "\n",
    "            a {\n",
    "                color: #0077cc;\n",
    "                text-decoration: none;\n",
    "                font-weight: 600;\n",
    "\n",
    "                transition: color 0.2s;\n",
    "            }\n",
    "\n",
    "            a:hover {\n",
    "                color: #0055aa;\n",
    "            }\n",
    "\n",
    "            @media (min-width: 600px) {\n",
    "\n",
    "                body {\n",
    "                    max-width: 600px;\n",
    "                    margin: 2rem auto;\n",
    "                    padding: 0 2rem;\n",
    "\n",
    "                    border-radius: 0.35rem;\n",
    "                    box-shadow: 0 10px 15px -3px rgba(0, 0, 0, 0.1),\n",
    "                        0 4px 6px -2px rgba(0, 0, 0, 0.05);\n",
    "                }\n",
    "\n",
    "            }\n",
    "        </style>\n",
    "\n",
    "    </head>\n",
    "    <body>\n",
    "        {% for dir_path, files in collected_files.items() %}\n",
    "        <h2>{{ dir_path }}</h2>\n",
    "        <table>\n",
    "            <tr>\n",
    "                <th>File Name</th>\n",
    "                <th>Extensions</th>\n",
    "            </tr>\n",
    "            {% for file_name, exts in files.items() %}\n",
    "            <tr>\n",
    "                <td>{{ file_name }}</td>\n",
    "                <td>\n",
    "                    {% for ext, file_path in exts %}\n",
    "                    <a href=\"{{ file_path }}\">{{ ext }}</a> \n",
    "                    {% endfor %}\n",
    "                </td>\n",
    "            </tr>\n",
    "            {% endfor %}\n",
    "        </table>\n",
    "        {% endfor %}\n",
    "    </body>\n",
    "    </html>\n",
    "    '''\n",
    "    template = Template(template_str)\n",
    "    html_str = template.render(collected_files=collected_files)\n",
    "    \n",
    "    with open(output_file, 'w', encoding='utf-8') as f:\n",
    "        f.write(html_str)\n",
    "\n",
    "def main(name = '95-苏杰的产品创新课'):\n",
    "    start_dir = f'study/{name}'  # 使用你的实际路径\n",
    "    html_dir = 'study_html'  # HTML文件所在的目录\n",
    "    output_file = f'study_html/{name}.html'  # 输出HTML文件的名称\n",
    "    \n",
    "    collected_files = collect_files(start_dir, html_dir)\n",
    "    create_html(collected_files, output_file)\n",
    "\n"
   ]
  },
  {
   "cell_type": "code",
   "execution_count": 6,
   "metadata": {},
   "outputs": [],
   "source": [
    "main('98-设计模式之美')"
   ]
  },
  {
   "cell_type": "code",
   "execution_count": 2,
   "metadata": {},
   "outputs": [],
   "source": [
    "main('236-大厂广告产品心法')"
   ]
  },
  {
   "cell_type": "code",
   "execution_count": 3,
   "metadata": {},
   "outputs": [],
   "source": [
    "main('262丨《熊逸讲透资治通鉴2》（熊逸）')"
   ]
  },
  {
   "cell_type": "code",
   "execution_count": 3,
   "metadata": {},
   "outputs": [],
   "source": [
    "main('289丨《年度得到沈祖芸全球教育报告》（沈祖芸）')"
   ]
  },
  {
   "cell_type": "code",
   "execution_count": 4,
   "metadata": {},
   "outputs": [],
   "source": [
    "main('290丨《年度得到孙亚飞材料科学前沿报告》（孙亚飞）')"
   ]
  },
  {
   "cell_type": "code",
   "execution_count": 5,
   "metadata": {},
   "outputs": [],
   "source": [
    "main('291丨《飞书组织数字化工具9讲》（谢欣）')"
   ]
  },
  {
   "cell_type": "code",
   "execution_count": 6,
   "metadata": {},
   "outputs": [],
   "source": [
    "main('292丨《王志纲年度报告2021》（王志纲）')"
   ]
  },
  {
   "cell_type": "code",
   "execution_count": null,
   "metadata": {},
   "outputs": [],
   "source": []
  }
 ],
 "metadata": {
  "kernelspec": {
   "display_name": "Python 3",
   "language": "python",
   "name": "python3"
  },
  "language_info": {
   "codemirror_mode": {
    "name": "ipython",
    "version": 3
   },
   "file_extension": ".py",
   "mimetype": "text/x-python",
   "name": "python",
   "nbconvert_exporter": "python",
   "pygments_lexer": "ipython3",
   "version": "3.10.11"
  },
  "orig_nbformat": 4
 },
 "nbformat": 4,
 "nbformat_minor": 2
}
