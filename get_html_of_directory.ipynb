{
 "cells": [
  {
   "cell_type": "code",
   "execution_count": 4,
   "metadata": {},
   "outputs": [],
   "source": [
    "import os\n",
    "from collections import defaultdict\n",
    "from jinja2 import Template\n",
    "from urllib.parse import quote\n",
    "\n",
    "def collect_files(start_dir, html_dir):\n",
    "    \"\"\"递归地在指定的起始目录中收集文件，返回一个包含每个文件名和其对应扩展名和相对路径的字典\"\"\"\n",
    "    collected_files = defaultdict(lambda: defaultdict(list))\n",
    "    for dir_path, dirs, files in sorted(os.walk(start_dir)):\n",
    "        for file in sorted(files):\n",
    "            file_name, file_ext = os.path.splitext(file)\n",
    "            file_ext = file_ext.lstrip('.')\n",
    "            rel_path = os.path.relpath(os.path.join(dir_path, file), html_dir)\n",
    "            url_path = quote(rel_path)\n",
    "            collected_files[dir_path][file_name].append((file_ext, url_path))\n",
    "    return collected_files\n",
    "\n",
    "def create_html(collected_files, output_file):\n",
    "    \"\"\"生成一个HTML文件，其中包含收集到的文件的信息\"\"\"\n",
    "    template_str = '''\n",
    "    <html>\n",
    "    <body>\n",
    "        {% for dir_path, files in collected_files.items() %}\n",
    "        <h2>{{ dir_path }}</h2>\n",
    "        <table>\n",
    "            <tr>\n",
    "                <th>File Name</th>\n",
    "                <th>Extensions</th>\n",
    "            </tr>\n",
    "            {% for file_name, exts in files.items() %}\n",
    "            <tr>\n",
    "                <td>{{ file_name }}</td>\n",
    "                <td>\n",
    "                    {% for ext, file_path in exts %}\n",
    "                    <a href=\"{{ file_path }}\">{{ ext }}</a> \n",
    "                    {% endfor %}\n",
    "                </td>\n",
    "            </tr>\n",
    "            {% endfor %}\n",
    "        </table>\n",
    "        {% endfor %}\n",
    "    </body>\n",
    "    </html>\n",
    "    '''\n",
    "    template = Template(template_str)\n",
    "    html_str = template.render(collected_files=collected_files)\n",
    "    \n",
    "    with open(output_file, 'w', encoding='utf-8') as f:\n",
    "        f.write(html_str)\n",
    "\n",
    "def main(name = '95-苏杰的产品创新课'):\n",
    "    start_dir = f'study/{name}'  # 使用你的实际路径\n",
    "    html_dir = 'study_html'  # HTML文件所在的目录\n",
    "    output_file = f'study_html/{name}.html'  # 输出HTML文件的名称\n",
    "    \n",
    "    collected_files = collect_files(start_dir, html_dir)\n",
    "    create_html(collected_files, output_file)\n",
    "\n"
   ]
  },
  {
   "cell_type": "code",
   "execution_count": 5,
   "metadata": {},
   "outputs": [],
   "source": [
    "main()"
   ]
  },
  {
   "cell_type": "code",
   "execution_count": 6,
   "metadata": {},
   "outputs": [],
   "source": [
    "main('98-设计模式之美')"
   ]
  },
  {
   "cell_type": "code",
   "execution_count": null,
   "metadata": {},
   "outputs": [],
   "source": []
  }
 ],
 "metadata": {
  "kernelspec": {
   "display_name": "Python 3",
   "language": "python",
   "name": "python3"
  },
  "language_info": {
   "codemirror_mode": {
    "name": "ipython",
    "version": 3
   },
   "file_extension": ".py",
   "mimetype": "text/x-python",
   "name": "python",
   "nbconvert_exporter": "python",
   "pygments_lexer": "ipython3",
   "version": "3.9.16"
  },
  "orig_nbformat": 4
 },
 "nbformat": 4,
 "nbformat_minor": 2
}
