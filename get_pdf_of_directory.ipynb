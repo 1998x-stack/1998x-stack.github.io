{
 "cells": [
  {
   "cell_type": "code",
   "execution_count": 1,
   "metadata": {},
   "outputs": [
    {
     "name": "stdout",
     "output_type": "stream",
     "text": [
      "books/深度学习进阶_自然语言处理_日2018_中文2020_日_斋藤康_z_lib_org.pdf\n",
      "books/自制搜索引擎_图灵程序设计丛书_日山田浩之_末永匡_z_lib_org.pdf\n",
      "books/5G时代_生活方式和商业模式的大变革_5G商用正式开启_一本书讲透5G对生_z_lib_org.pdf\n",
      "books/5G时代_什么是5G_它将如何改变世界都在说中国5G世界领先_华为5G_z_lib_org.pdf\n",
      "books/统计自然语言处理_第2版_中文信息处理丛书_宗成庆_z_lib_org.pdf\n",
      "books/图解网站分析_修订版_让流量倍增的网站优化方法_日_小川卓_沈麟芸_z_lib_org.pdf\n",
      "books/阿加莎克里斯蒂侦探小说大全集_全85册_阿加莎克里斯蒂_z_lib_org.pdf\n",
      "books/(中华书局) (z-lib.org).pdf\n",
      "books/自控力_斯坦福大学最受欢迎心理学课程_凯利_麦格尼格尔_Kelly_M_z_lib_org.pdf\n",
      "books/学习和认知升级经典书_包含_学习之道_精力管理_如何学习_等_全套6册_z_lib_org.pdf\n",
      "books/2016全球商业热点面面观_商业周刊精选必读系列_全十五册_商业周刊_z_lib_org.pdf\n",
      "books/深入理解边缘计算_云_边_端工作原理与源码分析_崔广章_z_lib_org.pdf\n",
      "books/边缘计算与算力网络_5G+AI时代的新型算力平台与网络连接_雷波_陈运清_等_z_lib_org.pdf\n",
      "books/物联网系统架构设计与边缘计算_原书第2版_美_佩里利_Perry_z_lib_org.pdf\n",
      "books/《传习录》精读.pdf\n",
      "books/Google_广告高阶优化第3版_布兰德盖兹_Brad_Gedd_z_lib_org.pdf\n",
      "books/SEO深度解析全面挖掘搜索引擎优化的核心秘密第2版改版_痞子瑞_等_z_lib_org.pdf\n",
      "books/平凡的世界 (路遙) (z-lib.org).pdf\n",
      "books/一本书读懂边缘计算 (史皓天 编著) (z-lib.org).pdf\n",
      "books/搜索力_帮你解决90人生难题的思维能力_李尚龙_兆民推荐_在信息时代_搜索_z_lib_org.pdf\n"
     ]
    }
   ],
   "source": [
    "import glob\n",
    "\n",
    "pdf_files = glob.glob('books/*.pdf')\n",
    "\n",
    "html_str = ''\n",
    "for file_path in pdf_files:\n",
    "    name = file_path.split('/')[-1].replace('.pdf', '')\n",
    "    html_str += f\"<a href='{file_path}'>{name}</a>\" + '\\n'\n",
    "    print(file_path)\n"
   ]
  },
  {
   "cell_type": "code",
   "execution_count": 3,
   "metadata": {},
   "outputs": [],
   "source": [
    "with open('a.html', 'w') as f:\n",
    "    f.write(html_str)"
   ]
  },
  {
   "cell_type": "code",
   "execution_count": null,
   "metadata": {},
   "outputs": [],
   "source": []
  }
 ],
 "metadata": {
  "kernelspec": {
   "display_name": "plugin",
   "language": "python",
   "name": "python3"
  },
  "language_info": {
   "codemirror_mode": {
    "name": "ipython",
    "version": 3
   },
   "file_extension": ".py",
   "mimetype": "text/x-python",
   "name": "python",
   "nbconvert_exporter": "python",
   "pygments_lexer": "ipython3",
   "version": "3.10.11"
  },
  "orig_nbformat": 4
 },
 "nbformat": 4,
 "nbformat_minor": 2
}
