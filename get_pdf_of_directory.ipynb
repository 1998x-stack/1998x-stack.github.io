{
 "cells": [
  {
   "cell_type": "code",
   "execution_count": 2,
   "metadata": {},
   "outputs": [
    {
     "name": "stdout",
     "output_type": "stream",
     "text": [
      "tianya-docs/docs/8-【楼主版】全面阐述降低房价的四项基本原则[已扎口].pdf\n",
      "tianya-docs/docs/10-理性分析通胀与经济形势，理性预测楼市下跌时间表-海宁的马甲.pdf\n",
      "tianya-docs/docs/17-【天涯头条】中国式骗局大全-我是骗子他祖宗.pdf\n",
      "tianya-docs/docs/7-一百元人民币在泰国能做什么－感受泰国人民的生活和物价-骑白马的农民.pdf\n",
      "tianya-docs/docs/30-写在脸上的风水1-禅海商道.pdf\n",
      "tianya-docs/docs/4-大鹏金翅明王合集.pdf\n",
      "tianya-docs/docs/22-赌坛风云-还你一个真实的老千世界-揭育润.pdf\n",
      "tianya-docs/docs/32-说说石油下跌的事-kulese.pdf\n",
      "tianya-docs/docs/15-戏说牛市合适崩盘.pdf\n",
      "tianya-docs/docs/1-【完整版】2010年的房地产调控，我们收获了什么？写在房价暴涨前.pdf\n",
      "tianya-docs/docs/2-天涯神贴：一个炒房人的终极预测——调控将撤底失败.pdf\n",
      "tianya-docs/docs/19-恶性通缩下的大萧条-七剑战歌之风月.pdf\n",
      "tianya-docs/docs/23-【经济专栏】赚未来十年的钱【已出版】.pdf\n",
      "tianya-docs/docs/29-异人启示录-佩伭.pdf\n",
      "tianya-docs/docs/11-经济大周期_踩准节拍再投资（高清）--海宁.pdf\n",
      "tianya-docs/docs/34-【完整版】“征税加息降房价”－－荒谬的理论、恐怖的圈套.pdf\n",
      "tianya-docs/docs/48-中国的房价将在不断上涨中完成腰斩-小恶魔兰尼特斯.pdf\n",
      "tianya-docs/docs/13-谶纬、民谣、推背图-大江宁静.pdf\n",
      "tianya-docs/docs/18-《十宗罪5》-中国十大恐怖凶杀案》--蜘蛛.pdf\n",
      "tianya-docs/docs/46-现在房产投资绝对是个技术活-海男的故事.pdf\n",
      "tianya-docs/docs/38-[经济专栏]朴实的预言1——房价10年内都不会跌-经济分析终结者.pdf\n",
      "tianya-docs/docs/37-房地产暴涨的推手：调控的反市场经济学分析-.pdf\n",
      "tianya-docs/docs/6-【完整版】中国楼市2005及2006年楼市之展望.pdf\n",
      "tianya-docs/docs/12-祖上三代皆经商，闲谈未来二十年中国的商机-公子镔.pdf\n",
      "tianya-docs/docs/50-看一个穷人怎样拥有多套房产的？－财富可以这样成长。-晋朝人.pdf\n",
      "tianya-docs/docs/39-我做了3年房地产了，我告诉你2014年房价会不会降-茶香竹韵.pdf\n",
      "tianya-docs/docs/36-周五之前应该有一次降准，最晚4月15日之前，最佳日期4月9日。-80后60岁走遍全球.pdf\n",
      "tianya-docs/docs/3-看图说话-从开发商的角度-闲聊神州房市走势与“鬼城”的产生.pdf\n",
      "tianya-docs/docs/23-赚未来十年的钱-王海滨.pdf\n",
      "tianya-docs/docs/27-《心理大师》：我是心理医生，818最近的变态病人-沈非.pdf\n",
      "tianya-docs/docs/14-经济的逻辑-flp713.pdf\n",
      "tianya-docs/docs/24-民调局异闻录-儿东水寿.pdf\n",
      "tianya-docs/docs/31-写在脸上的风水2-禅海商道.pdf\n",
      "tianya-docs/docs/1-【楼主版】2010年的房地产调控，我们收获了什么？写在房价暴涨前.pdf\n",
      "tianya-docs/docs/21-因为贱-所以生活艰辛!说出真相-底层会更绝望-大鹏金翅明王.pdf\n",
      "tianya-docs/docs/26-五大贼王-天下贼术，皆出五行！-老夜.pdf\n",
      "tianya-docs/docs/20-来经济论坛一看，这里怎么又被房多们占领了-七剑战歌之风月.pdf\n",
      "tianya-docs/docs/33-用我30年的经历，为你揭开周易的神秘-四书五经丶(6).pdf\n",
      "tianya-docs/docs/41-老公坚持房价会跌，我现在一看房价就满嘴吐血。-爱死小肥羊.pdf\n",
      "tianya-docs/docs/28-山医卜命相！五术杂谈！-四书五经丶(6).pdf\n",
      "tianya-docs/docs/44-北京十年房子故事-看西山的子房.pdf\n",
      "tianya-docs/docs/35-中国人为什么一套接一套的买房子-不炒不热闹 .pdf\n",
      "tianya-docs/docs/45-理性分析今后几年房价的走势-光脚穿草鞋.pdf\n",
      "tianya-docs/docs/9-2013-2017的大框架-第三元.pdf\n",
      "tianya-docs/docs/43-大神预言神准-大文豪曼因斯坦.pdf\n",
      "tianya-docs/docs/6-【楼主版】中国楼市2005及2006年楼市之展望.pdf\n",
      "tianya-docs/docs/5-北望帝都-房价长期预测专贴：十年内北京四环内的均价会达到八万.pdf\n",
      "tianya-docs/docs/25-金融幻象-对现实经济的真实剖析.pdf\n",
      "tianya-docs/docs/49-我是一个DNA鉴定师，八一八我遇到的那些人那些事-小鉴定师大宝.pdf\n",
      "tianya-docs/docs/40-最后的救市-换入大城市房子的最后时刻-鹏程蛇口_.pdf\n",
      "tianya-docs/docs/42-今年，我什么都不再预测。这只是本人去年的长贴。准确率仅也就100%。--exposurejingdong.pdf\n",
      "tianya-docs/docs/8-【完整版】全面阐述降低房价的四项基本原则[已扎口].pdf\n",
      "tianya-docs/docs/47-职业如何规划？大城市，小城市，如何抉择？我来说说我的个人经历和思考-鸟树下睡懒觉的猪.pdf\n",
      "tianya-docs/docs/16-天涯头条-你所不知道的冰冷的经济真相-flp713.pdf\n"
     ]
    }
   ],
   "source": [
    "import glob\n",
    "\n",
    "pdf_files = glob.glob('tianya-docs/*/*.pdf')\n",
    "\n",
    "html_str = ''\n",
    "for file_path in pdf_files:\n",
    "    name = file_path.split('/')[-1].replace('.pdf', '')\n",
    "    html_str += f\"<a href='{file_path}'>{name}</a>\" + '\\n'\n",
    "    print(file_path)\n"
   ]
  },
  {
   "cell_type": "code",
   "execution_count": 3,
   "metadata": {},
   "outputs": [],
   "source": [
    "with open('kk.html', 'w') as f:\n",
    "    f.write(html_str)"
   ]
  },
  {
   "cell_type": "code",
   "execution_count": null,
   "metadata": {},
   "outputs": [],
   "source": []
  }
 ],
 "metadata": {
  "kernelspec": {
   "display_name": "plugin",
   "language": "python",
   "name": "python3"
  },
  "language_info": {
   "codemirror_mode": {
    "name": "ipython",
    "version": 3
   },
   "file_extension": ".py",
   "mimetype": "text/x-python",
   "name": "python",
   "nbconvert_exporter": "python",
   "pygments_lexer": "ipython3",
   "version": "3.10.11"
  },
  "orig_nbformat": 4
 },
 "nbformat": 4,
 "nbformat_minor": 2
}
